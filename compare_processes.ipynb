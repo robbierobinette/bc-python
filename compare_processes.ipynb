{
 "cells": [
  {
   "cell_type": "code",
   "execution_count": 16,
   "outputs": [],
   "source": [
    "import os\n",
    "os.environ['TF_CPP_MIN_LOG_LEVEL'] = \"5\"\n",
    "import os.path as path\n",
    "from copy import copy\n",
    "\n",
    "from joblib import Parallel, delayed\n",
    "\n",
    "from ExperimentConfig import ExperimentConfig\n",
    "from Experiment import Experiment\n",
    "from CombinedExperiment import CombinedExperiment\n",
    "from typing import List\n",
    "from Experiment import RaceResult\n",
    "\n",
    "class ComparisonResult:\n",
    "    def __init__(self, results: List[RaceResult]):\n",
    "        self.results = results\n",
    "\n",
    "base_config = ExperimentConfig(\"base_config\",\n",
    "                         \"IRV\",\n",
    "                         equal_pct_bins=True,\n",
    "                         candidate_variance=.5,\n",
    "                         quality_variance=0,\n",
    "                         ideology_flexibility = .7,\n",
    "                         sampling_voters=1000,\n",
    "                         model_path=f\"exp/v26/IRV-A.mdl.010000.progress\")\n",
    "\n",
    "def run_strategic_races(irv_config: ExperimentConfig, h2h_config: ExperimentConfig):\n",
    "    candidates = base_config.gen_candidates(5)\n",
    "    voters = irv_config.population.generate_unit_voters(irv_config.sampling_voters)\n",
    "    def run_config(c: ExperimentConfig) -> RaceResult:\n",
    "        c.election_config.uncertainty = 0\n",
    "        x = Experiment(c)\n",
    "        return x.run_strategic_race_c(candidates, voters)\n",
    "\n",
    "    return [run_config(c) for c in [irv_config, h2h_config]]\n",
    "\n",
    "def compute_SUE_single(rr: RaceResult):\n",
    "    return CombinedExperiment.compute_SUE_single(rr)\n",
    "\n",
    "import matplotlib.pyplot as plt\n",
    "def make_line_plot(data, title, labels,\n",
    "                   xlabel: str = \"Candidate Ideological Flexibility (stddev)\",\n",
    "                   ylabel: str = \"Social Utility Efficiency\"):\n",
    "    import matplotlib as mpl\n",
    "    mpl.rcParams['figure.dpi'] = 300\n",
    "    n_rows = 1\n",
    "    n_cols = 1\n",
    "    fig, axis = plt.subplots(nrows=n_rows, ncols=n_cols, figsize=(20, 10))\n",
    "    fig.suptitle(title, color=\"black\", fontsize=22)\n",
    "    fig.set_facecolor(\"white\")\n",
    "\n",
    "    count = 0\n",
    "    plt.xticks(fontsize=16)\n",
    "    plt.yticks(fontsize=16)\n",
    "\n",
    "    axis.tick_params(axis='x', colors=\"black\")\n",
    "\n",
    "    for i in range(len(data)):\n",
    "        d = data[i]\n",
    "        plt.plot(d[0], d[1], label =labels[i])\n",
    "    plt.legend()\n",
    "\n",
    "    axis.set_xlabel(xlabel, fontsize=20)\n",
    "    axis.set_ylabel(ylabel, fontsize=20)\n",
    "\n",
    "import pickle\n",
    "def save_results(file_path: str, obj):\n",
    "    with open(file_path, \"wb\") as f:\n",
    "        pickle.dump(obj, f)\n",
    "\n",
    "def load_results(file_path: str):\n",
    "    if path.exists(file_path):\n",
    "        with open(file_path, \"rb\") as f:\n",
    "            return pickle.load(f)\n",
    "    else:\n",
    "        return None"
   ],
   "metadata": {
    "collapsed": false,
    "pycharm": {
     "name": "#%%\n"
    }
   }
  },
  {
   "cell_type": "code",
   "execution_count": 17,
   "outputs": [
    {
     "name": "stdout",
     "output_type": "stream",
     "text": [
      "irv_count 17 h2h_count 983 equal_count 0\n"
     ]
    }
   ],
   "source": [
    "iterations = 50000\n",
    "n_voters = 10000\n",
    "irv_config = copy(base_config)\n",
    "irv_config.election_name = \"IRV\"\n",
    "irv_config.model_path = \"exp/v26/IRV-A.mdl.%06d.progress\" % (iterations )\n",
    "irv_config.sampling_voters = 1000\n",
    "\n",
    "h2h_config = copy(base_config)\n",
    "h2h_config.election_name=\"H2H\"\n",
    "h2h_config.model_path = \"exp/v26/H2H-A.mdl.%06d.progress\" % (iterations )\n",
    "h2h_config.sampling_voters = 1000\n",
    "\n",
    "n_races = 1000\n",
    "results: List[List[RaceResult]] = Parallel(n_jobs=32)(\n",
    "    delayed(run_strategic_races)(irv_config, h2h_config) for _ in range(n_races))\n",
    "# results = [run_strategic_races(irv_config, h2h_config) for _ in range(n_races)]\n",
    "\n",
    "\n",
    "irv_count = 0\n",
    "h2h_count = 0\n",
    "equal_count = 0\n",
    "\n",
    "for rr in results:\n",
    "    irv_sue = compute_SUE_single(rr[0])\n",
    "    h2h_sue = compute_SUE_single(rr[1])\n",
    "    if irv_sue > h2h_sue:\n",
    "        irv_count += 1\n",
    "    elif h2h_sue > irv_sue:\n",
    "        h2h_count += 1\n",
    "    else:\n",
    "        equal_count += 1\n",
    "\n",
    "print(\"irv_count %d h2h_count %d equal_count %d\" % (irv_count, h2h_count, equal_count))"
   ],
   "metadata": {
    "collapsed": false,
    "pycharm": {
     "name": "#%%\n"
    }
   }
  }
 ],
 "metadata": {
  "kernelspec": {
   "display_name": "Python 3",
   "language": "python",
   "name": "python3"
  },
  "language_info": {
   "codemirror_mode": {
    "name": "ipython",
    "version": 2
   },
   "file_extension": ".py",
   "mimetype": "text/x-python",
   "name": "python",
   "nbconvert_exporter": "python",
   "pygments_lexer": "ipython2",
   "version": "2.7.6"
  }
 },
 "nbformat": 4,
 "nbformat_minor": 0
}