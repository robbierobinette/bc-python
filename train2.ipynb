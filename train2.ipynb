{
 "cells": [
  {
   "cell_type": "code",
   "execution_count": 1,
   "outputs": [],
   "source": [
    "from typing import List\n",
    "\n",
    "import matplotlib.pyplot as plt\n",
    "\n",
    "from Experiment import Experiment\n",
    "from ExperimentalConfig import ExperimentalConfig\n",
    "from elections.ElectionConstructor import ElectionConstructor, construct_irv, construct_h2h\n",
    "\n",
    "def plot_results(results: List[List[float]], title: str, labels: List[str]):\n",
    "    n_rows = 1\n",
    "    n_cols = 1\n",
    "    fig, axis = plt.subplots(nrows=n_rows, ncols=n_cols, figsize=(20, 10))\n",
    "    fig.suptitle(title, color=\"black\", fontsize=22)\n",
    "    fig.set_facecolor(\"white\")\n",
    "\n",
    "    count = 0\n",
    "    plt.xticks(fontsize=16)\n",
    "    plt.yticks(fontsize=16)\n",
    "\n",
    "    axis.tick_params(axis='x', colors=\"black\")\n",
    "    axis.tick_params(axis='y', colors=\"black\")\n",
    "\n",
    "    axis.hist(results, bins=30, label=labels)\n",
    "    axis.legend()\n",
    "    axis.set_xlabel(\"Sigma From Origin\", fontsize=20)\n",
    "    axis.set_ylabel(\"Frequency of Winner at Ideology\", fontsize=20)\n",
    "\n",
    "    plt.savefig(\"foo.png\")"
   ],
   "metadata": {
    "collapsed": false,
    "pycharm": {
     "name": "#%%\n"
    }
   }
  },
  {
   "cell_type": "code",
   "execution_count": 2,
   "metadata": {
    "collapsed": true
   },
   "outputs": [
    {
     "ename": "FileNotFoundError",
     "evalue": "[Errno 2] No such file or directory: 'exp/irv-1.txt'",
     "output_type": "error",
     "traceback": [
      "\u001B[0;31m---------------------------------------------------------------------------\u001B[0m",
      "\u001B[0;31mFileNotFoundError\u001B[0m                         Traceback (most recent call last)",
      "\u001B[0;32m/var/folders/bk/gdh16lyd147dmnfx84pr5n8c0000gn/T/ipykernel_12552/1406389426.py\u001B[0m in \u001B[0;36m<module>\u001B[0;34m\u001B[0m\n\u001B[1;32m      2\u001B[0m                             \u001B[0;36m100000\u001B[0m\u001B[0;34m,\u001B[0m\u001B[0;34m\u001B[0m\u001B[0;34m\u001B[0m\u001B[0m\n\u001B[1;32m      3\u001B[0m                             1.5, .7, 21, 512, 3, 200000, 2048, 400, 400, \"exp/irv-1\")\n\u001B[0;32m----> 4\u001B[0;31m \u001B[0mconfig\u001B[0m\u001B[0;34m.\u001B[0m\u001B[0msave\u001B[0m\u001B[0;34m(\u001B[0m\u001B[0;34m)\u001B[0m\u001B[0;34m\u001B[0m\u001B[0;34m\u001B[0m\u001B[0m\n\u001B[0m\u001B[1;32m      5\u001B[0m \u001B[0mexp\u001B[0m \u001B[0;34m=\u001B[0m \u001B[0mExperiment\u001B[0m\u001B[0;34m(\u001B[0m\u001B[0mconfig\u001B[0m\u001B[0;34m)\u001B[0m\u001B[0;34m\u001B[0m\u001B[0;34m\u001B[0m\u001B[0m\n\u001B[1;32m      6\u001B[0m \u001B[0mirv_winners\u001B[0m \u001B[0;34m=\u001B[0m \u001B[0mexp\u001B[0m\u001B[0;34m.\u001B[0m\u001B[0mrun_strategic_races\u001B[0m\u001B[0;34m(\u001B[0m\u001B[0;36m1000\u001B[0m\u001B[0;34m)\u001B[0m\u001B[0;34m\u001B[0m\u001B[0;34m\u001B[0m\u001B[0m\n",
      "\u001B[0;32m~/work/bc-python/ExperimentalConfig.py\u001B[0m in \u001B[0;36msave\u001B[0;34m(self)\u001B[0m\n\u001B[1;32m     49\u001B[0m \u001B[0;34m\u001B[0m\u001B[0m\n\u001B[1;32m     50\u001B[0m     \u001B[0;32mdef\u001B[0m \u001B[0msave\u001B[0m\u001B[0;34m(\u001B[0m\u001B[0mself\u001B[0m\u001B[0;34m)\u001B[0m\u001B[0;34m:\u001B[0m\u001B[0;34m\u001B[0m\u001B[0;34m\u001B[0m\u001B[0m\n\u001B[0;32m---> 51\u001B[0;31m         \u001B[0;32mwith\u001B[0m \u001B[0mopen\u001B[0m\u001B[0;34m(\u001B[0m\u001B[0;34mf\"{self.path}.txt\"\u001B[0m\u001B[0;34m)\u001B[0m \u001B[0;32mas\u001B[0m \u001B[0mf\u001B[0m\u001B[0;34m:\u001B[0m\u001B[0;34m\u001B[0m\u001B[0;34m\u001B[0m\u001B[0m\n\u001B[0m\u001B[1;32m     52\u001B[0m             \u001B[0mf\u001B[0m\u001B[0;34m.\u001B[0m\u001B[0mwrite\u001B[0m\u001B[0;34m(\u001B[0m\u001B[0mself\u001B[0m\u001B[0;34m.\u001B[0m\u001B[0mtoString\u001B[0m\u001B[0;34m(\u001B[0m\u001B[0;34m)\u001B[0m\u001B[0;34m)\u001B[0m\u001B[0;34m\u001B[0m\u001B[0;34m\u001B[0m\u001B[0m\n\u001B[1;32m     53\u001B[0m \u001B[0;34m\u001B[0m\u001B[0m\n",
      "\u001B[0;31mFileNotFoundError\u001B[0m: [Errno 2] No such file or directory: 'exp/irv-1.txt'"
     ]
    }
   ],
   "source": [
    "config = ExperimentalConfig(\"IRV\",\n",
    "                            100000,\n",
    "                            1.5, .7, 21, 512, 3, 200000, 2048, 400, 400, \"exp/irv-1\")\n",
    "config.save()\n",
    "exp = Experiment(config)\n",
    "irv_winners = exp.run_strategic_races(1000)\n",
    "plot_results([irv_winners],\n",
    "             \"Frequency of Winning Ideology with Strategic Candidates using IRV\",\n",
    "             [\"Winners under IRV\"]\n",
    "             )"
   ]
  },
  {
   "cell_type": "code",
   "execution_count": null,
   "outputs": [],
   "source": [
    "config = ExperimentalConfig(\"H2H\",\n",
    "                            100000,\n",
    "                            1.5, .7, 21, 512, 3, 200000, 2048, 400, 400, \"exp/h2h-1\" )\n",
    "exp = Experiment(config)\n",
    "h2h_winners = exp.run_strategic_races(1000)\n",
    "plot_results([h2h_winners],\n",
    "             \"Frequency of Winning Ideology with Strategic Candidates using Condorcet/Minimax\",\n",
    "             [\"Winners under Condorcet/Minimax\"]\n",
    "             )"
   ],
   "metadata": {
    "collapsed": false,
    "pycharm": {
     "name": "#%%\n"
    }
   }
  }
 ],
 "metadata": {
  "kernelspec": {
   "display_name": "Python 3",
   "language": "python",
   "name": "python3"
  },
  "language_info": {
   "codemirror_mode": {
    "name": "ipython",
    "version": 2
   },
   "file_extension": ".py",
   "mimetype": "text/x-python",
   "name": "python",
   "nbconvert_exporter": "python",
   "pygments_lexer": "ipython2",
   "version": "2.7.6"
  }
 },
 "nbformat": 4,
 "nbformat_minor": 0
}