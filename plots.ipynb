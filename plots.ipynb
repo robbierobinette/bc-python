{
 "cells": [
  {
   "cell_type": "code",
   "execution_count": 82,
   "metadata": {
    "collapsed": true,
    "pycharm": {
     "name": "#%%\n"
    }
   },
   "outputs": [],
   "source": [
    "from typing import List, Tuple\n",
    "\n",
    "import matplotlib.pyplot as plt\n",
    "\n",
    "from elections.HeadToHeadElection import HeadToHeadElection\n",
    "from elections.DefaultConfigOptions import unit_election_config\n",
    "from Experiment import Experiment\n",
    "from elections.ElectionConstructor import ElectionConstructor, construct_irv, construct_h2h\n",
    "from elections.Candidate import Candidate\n",
    "from elections.Ballot import Ballot\n",
    "\n",
    "n_races=1000\n",
    "\n",
    "h2h_config = ExperimentalConfig(\"H2H\",\n",
    "                            20000,\n",
    "                            1.5, .7, 21, 512, 3, 50000, 2048, 400, 1000, \"exp/h2h-1\")\n",
    "h2h_config.save()\n",
    "h2h_exp = Experiment(h2h_config)"
   ]
  },
  {
   "cell_type": "code",
   "execution_count": 83,
   "outputs": [],
   "source": [
    "irv_config = ExperimentConfig(\"IRV\",\n",
    "                            20000,\n",
    "                            1.5, .7, 21, 512, 3, 50000, 2048, 400, 1000, \"exp/irv-1\")\n",
    "irv_config.save()\n",
    "irv_exp = Experiment(irv_config)"
   ],
   "metadata": {
    "collapsed": false,
    "pycharm": {
     "name": "#%%\n"
    }
   }
  },
  {
   "cell_type": "code",
   "execution_count": null,
   "outputs": [
    {
     "name": "stdout",
     "output_type": "stream",
     "text": [
      "populating training memory with 250000 samples\n",
      "...................................................................................................................................................................................................................................................................................................................................................................................................................................................................................................\n",
      "m.count 250000\n",
      "training network for 100000 epochs\n",
      "epoch     0 loss = 0.033196\n"
     ]
    },
    {
     "name": "stderr",
     "output_type": "stream",
     "text": [
      "2021-07-31 10:46:35.092589: W tensorflow/python/util/util.cc:348] Sets are not currently considered sequences, but this may change in the future, so consider avoiding using them.\n"
     ]
    },
    {
     "name": "stdout",
     "output_type": "stream",
     "text": [
      "INFO:tensorflow:Assets written to: mdl.sav.0/assets\n",
      "epoch  1000 loss = 0.0194754\n",
      "INFO:tensorflow:Assets written to: mdl.sav.1000/assets\n",
      "epoch  2000 loss = 0.0187895\n",
      "INFO:tensorflow:Assets written to: mdl.sav.2000/assets\n",
      "epoch  3000 loss = 0.0181654\n",
      "INFO:tensorflow:Assets written to: mdl.sav.3000/assets\n",
      "loss is nan, reverting to mdl.sav.3000\n",
      "WARNING:tensorflow:No training configuration found in save file, so the model was *not* compiled. Compile it manually.\n"
     ]
    },
    {
     "name": "stderr",
     "output_type": "stream",
     "text": [
      "WARNING:absl:Found untraced functions such as dropout_1_layer_call_fn, dropout_1_layer_call_and_return_conditional_losses, action_logits_layer_call_fn, action_logits_layer_call_and_return_conditional_losses, softmax_1_layer_call_fn while saving (showing 5 of 40). These functions will not be directly callable after loading.\n"
     ]
    },
    {
     "name": "stdout",
     "output_type": "stream",
     "text": [
      "epoch  4000 loss = 0.0176996\n",
      "INFO:tensorflow:Assets written to: mdl.sav.4000/assets\n"
     ]
    },
    {
     "name": "stderr",
     "output_type": "stream",
     "text": [
      "INFO:tensorflow:Assets written to: mdl.sav.4000/assets\n"
     ]
    },
    {
     "name": "stdout",
     "output_type": "stream",
     "text": [
      "loss is nan, reverting to mdl.sav.4000\n",
      "WARNING:tensorflow:No training configuration found in save file, so the model was *not* compiled. Compile it manually.\n"
     ]
    },
    {
     "name": "stderr",
     "output_type": "stream",
     "text": [
      "WARNING:tensorflow:No training configuration found in save file, so the model was *not* compiled. Compile it manually.\n"
     ]
    },
    {
     "name": "stdout",
     "output_type": "stream",
     "text": [
      "loss is nan, reverting to mdl.sav.4000\n",
      "WARNING:tensorflow:No training configuration found in save file, so the model was *not* compiled. Compile it manually.\n"
     ]
    },
    {
     "name": "stderr",
     "output_type": "stream",
     "text": [
      "WARNING:tensorflow:No training configuration found in save file, so the model was *not* compiled. Compile it manually.\n",
      "WARNING:absl:Found untraced functions such as dropout_1_layer_call_fn, dropout_1_layer_call_and_return_conditional_losses, action_logits_layer_call_fn, action_logits_layer_call_and_return_conditional_losses, softmax_1_layer_call_fn while saving (showing 5 of 40). These functions will not be directly callable after loading.\n"
     ]
    },
    {
     "name": "stdout",
     "output_type": "stream",
     "text": [
      "epoch  5000 loss = 0.0177241\n",
      "INFO:tensorflow:Assets written to: mdl.sav.5000/assets\n"
     ]
    },
    {
     "name": "stderr",
     "output_type": "stream",
     "text": [
      "INFO:tensorflow:Assets written to: mdl.sav.5000/assets\n"
     ]
    }
   ],
   "source": [
    "irv_wc_s = irv_exp.run_strategic_races_core(n_races)\n",
    "HeadToHeadElection.count_of_ties = 0\n",
    "h2h_wc_s = h2h_exp.run_strategic_races_core(n_races)\n",
    "print(f\"number of HeadToHead ties in strategic races: {HeadToHeadElection.count_of_ties}\")"
   ],
   "metadata": {
    "collapsed": false,
    "pycharm": {
     "name": "#%%\n"
    }
   }
  },
  {
   "cell_type": "code",
   "execution_count": null,
   "outputs": [],
   "source": [
    "import numpy as np\n",
    "def plot_results(results: List[List[float]], title: str, labels: List[str]):\n",
    "    n_rows = 1\n",
    "    n_cols = 1\n",
    "    fig, axis = plt.subplots(nrows=n_rows, ncols=n_cols, figsize=(20, 10))\n",
    "    fig.suptitle(title, color=\"black\", fontsize=22)\n",
    "    fig.set_facecolor(\"white\")\n",
    "\n",
    "    count = 0\n",
    "    plt.xticks(fontsize=16)\n",
    "    plt.yticks(fontsize=16)\n",
    "\n",
    "    axis.tick_params(axis='x', colors=\"black\")\n",
    "    axis.tick_params(axis='y', colors=\"black\")\n",
    "    axis.set_xlim([-1, 1])\n",
    "\n",
    "    bins = np.arange(-1, 1, 2/21)\n",
    "    axis.hist(results, bins=bins, label=labels, edgecolor='white', stacked=True)\n",
    "    axis.legend()\n",
    "    axis.set_xlabel(\"Sigma From Origin\", fontsize=20)\n",
    "    axis.set_ylabel(\"Frequency of Winner at Ideology\", fontsize=20)\n",
    "\n",
    "    plt.savefig(\"foo.png\")"
   ],
   "metadata": {
    "collapsed": false,
    "pycharm": {
     "name": "#%%\n"
    }
   }
  },
  {
   "cell_type": "code",
   "execution_count": null,
   "outputs": [],
   "source": [
    "def results_for_candidate(results: List[Tuple[Candidate, List[Candidate]]], candidate_name: str, wins_only: bool):\n",
    "    ideologies = []\n",
    "    for w, cc in results:\n",
    "        if wins_only and w.name == candidate_name:\n",
    "            ideologies.append(w.ideology.vec[0])\n",
    "        elif not wins_only:\n",
    "            for c in cc:\n",
    "                if c.name == candidate_name:\n",
    "                    ideologies.append( c.ideology.vec[0] )\n",
    "\n",
    "    print(f\"found {len(ideologies)} results\")\n",
    "    return ideologies"
   ],
   "metadata": {
    "collapsed": false,
    "pycharm": {
     "name": "#%%\n"
    }
   }
  },
  {
   "cell_type": "code",
   "execution_count": null,
   "outputs": [],
   "source": [
    "names = [\"c-0\", \"c-1\", \"c-2\", \"c-3\", \"c-4\"]\n",
    "def make_plots():\n",
    "    root=\"e/v1\"\n",
    "    results = [results_for_candidate(irv_wc_s, n, True) for n in names]\n",
    "    plot_results(results, f\"Frequency of Winning Ideology by Each Candidate With IRV\", names)\n",
    "    plt.savefig(f\"{root}/wins_by_candidate_irv.png\")\n",
    "\n",
    "    results = [results_for_candidate(h2h_wc_s, n, True) for n in names]\n",
    "    plot_results(results, f\"Frequency of Winning Ideology by Each Candidate With Minimax\", names)\n",
    "    plt.savefig(f\"{root}/wins_by_candidate_h2h.png\")\n",
    "\n",
    "    results = [results_for_candidate(irv_wc_s, n, False) for n in names]\n",
    "    plot_results(results, f\"Frequency of Chosen Ideology by Each Candidate With IRV\", names)\n",
    "    plt.savefig(f\"{root}/chosen_by_candidate_irv.png\")\n",
    "\n",
    "    results = [results_for_candidate(h2h_wc_s, n, False) for n in names]\n",
    "    plot_results(results, f\"Frequency of Chosen Ideology by Each Candidate With Minimax\", names)\n",
    "    plt.savefig(f\"{root}/chosen_by_candidate_h2h.png\")\n",
    "\n",
    "make_plots()"
   ],
   "metadata": {
    "collapsed": false,
    "pycharm": {
     "name": "#%%\n"
    }
   }
  },
  {
   "cell_type": "code",
   "execution_count": null,
   "outputs": [],
   "source": [
    "def CumulativeNormalDistribution(xRaw: float) -> float:\n",
    "    if xRaw < 0:\n",
    "        neg = 1\n",
    "    else:\n",
    "        neg = 0\n",
    "\n",
    "    k = 1.0 / (1.0 + 0.2316419 * abs(xRaw))\n",
    "    y = ((((1.330274429 * k - 1.821255978) * k + 1.781477937) * k - 0.356563782) * k + 0.319381530) * k\n",
    "    y = 1.0 - 0.398942280401 * np.exp(-0.5 * (xRaw * xRaw)) * y\n",
    "    return (1.0 - neg) * y + neg * (1.0 - y)"
   ],
   "metadata": {
    "collapsed": false,
    "pycharm": {
     "name": "#%%\n"
    }
   }
  },
  {
   "cell_type": "code",
   "execution_count": null,
   "outputs": [],
   "source": [
    "def representation(sigma: float) -> float:\n",
    "    pct = CumulativeNormalDistribution(sigma)\n",
    "    return 100 * (1 - 2 * abs(.5 - pct))"
   ],
   "metadata": {
    "collapsed": false,
    "pycharm": {
     "name": "#%%\n"
    }
   }
  },
  {
   "cell_type": "code",
   "execution_count": null,
   "outputs": [],
   "source": [
    "def run_random_election(exp: Experiment) -> Tuple[Candidate, List[Candidate]]:\n",
    "    candidates = exp.config.gen_candidates_2(5)\n",
    "    # candidates = exp.config.gen_random_candidates(5)\n",
    "    voters = exp.config.population.generate_unit_voters(exp.config.sampling_voters)\n",
    "    ballots = [Ballot(v, candidates, unit_election_config) for v in voters]\n",
    "    process = exp.config.election_constructor\n",
    "    result = process.run(ballots, set(candidates))\n",
    "    winner = result.winner()\n",
    "    return winner, candidates, result.t"
   ],
   "metadata": {
    "collapsed": false,
    "pycharm": {
     "name": "#%%\n"
    }
   }
  },
  {
   "cell_type": "code",
   "execution_count": null,
   "outputs": [],
   "source": [
    "abs(-.1)"
   ],
   "metadata": {
    "collapsed": false,
    "pycharm": {
     "name": "#%%\n"
    }
   }
  },
  {
   "cell_type": "code",
   "execution_count": null,
   "outputs": [],
   "source": [
    "irv_wc_r = [run_random_election(irv_exp) for i in range(n_races)]\n",
    "h2h_wc_r = [run_random_election(h2h_exp) for i in range(n_races)]\n",
    "print(f\"Number of HeadToHead ties in random races: {HeadToHeadElection.count_of_ties}\")"
   ],
   "metadata": {
    "collapsed": false,
    "pycharm": {
     "name": "#%%\n"
    }
   }
  },
  {
   "cell_type": "code",
   "execution_count": null,
   "outputs": [],
   "source": [
    "def mean(x: List[float]) -> float:\n",
    "    return np.mean(np.array(x))\n",
    "\n",
    "def describe_results(results: List[Tuple[Candidate, List[Candidate]]], label):\n",
    "    winners = list(map(lambda x: x[0].ideology.vec[0], results))\n",
    "    sigmas = [abs(x) for x in winners]\n",
    "    percentages = [CumulativeNormalDistribution(x) for x in winners]\n",
    "    rr = [representation(x) for x in winners]\n",
    "\n",
    "    mean_sigma = mean(sigmas)\n",
    "    mean_representation = mean(rr)\n",
    "\n",
    "    print(f\"%14s sigma from origin: %.3f representation %5.2f\" % (label, mean_sigma, mean_representation))"
   ],
   "metadata": {
    "collapsed": false,
    "pycharm": {
     "name": "#%%\n"
    }
   }
  },
  {
   "cell_type": "code",
   "execution_count": null,
   "outputs": [],
   "source": [
    "describe_results(irv_wc_r, \"IRV/Random\")\n",
    "describe_results(h2h_wc_r, \"H2H/Random\")\n",
    "\n",
    "describe_results(irv_wc_s, \"IRV/Strategic\")\n",
    "describe_results(h2h_wc_s, \"H2H/Strategic\")\n"
   ],
   "metadata": {
    "collapsed": false,
    "pycharm": {
     "name": "#%%\n"
    }
   }
  }
 ],
 "metadata": {
  "kernelspec": {
   "display_name": "Python 3",
   "language": "python",
   "name": "python3"
  },
  "language_info": {
   "codemirror_mode": {
    "name": "ipython",
    "version": 2
   },
   "file_extension": ".py",
   "mimetype": "text/x-python",
   "name": "python",
   "nbconvert_exporter": "python",
   "pygments_lexer": "ipython2",
   "version": "2.7.6"
  }
 },
 "nbformat": 4,
 "nbformat_minor": 0
}