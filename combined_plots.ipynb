{
 "cells": [
  {
   "cell_type": "code",
   "execution_count": null,
   "metadata": {
    "collapsed": true,
    "pycharm": {
     "name": "#%%\n"
    }
   },
   "outputs": [],
   "source": [
    "from typing import List, Tuple\n",
    "\n",
    "import matplotlib.pyplot as plt\n",
    "\n",
    "from Experiment import Experiment\n",
    "from elections.Ballot import Ballot\n",
    "from elections.Candidate import Candidate\n",
    "from elections.DefaultConfigOptions import unit_election_config\n",
    "from elections.HeadToHeadElection import HeadToHeadElection\n",
    "from ExperimentConfig import ExperimentConfig\n",
    "from CombinedExperiment import CombinedExperiment\n",
    "\n",
    "\n",
    "n_races = 1000\n",
    "\n",
    "h2h_config = ExperimentConfig(\"H2H\",\n",
    "                                20000,\n",
    "                                1.5, .7, 21, 512, 3, 50000, 2048, 400, 1000, \"exp/h2h-0\")\n",
    "\n",
    "irv_config = ExperimentConfig(\"IRV\", 20000,\n",
    "                                1.5, .7, 21, 512, 3, 50000, 2048, 400, 1000, \"exp/irv-0\")\n",
    "\n",
    "cexp = CombinedExperiment([h2h_config, irv_config], \"exp/v0\", 10)\n",
    "cexp.run()\n",
    "\n"
   ]
  }
 ],
 "metadata": {
  "kernelspec": {
   "display_name": "Python 3",
   "language": "python",
   "name": "python3"
  },
  "language_info": {
   "codemirror_mode": {
    "name": "ipython",
    "version": 2
   },
   "file_extension": ".py",
   "mimetype": "text/x-python",
   "name": "python",
   "nbconvert_exporter": "python",
   "pygments_lexer": "ipython2",
   "version": "2.7.6"
  }
 },
 "nbformat": 4,
 "nbformat_minor": 0
}