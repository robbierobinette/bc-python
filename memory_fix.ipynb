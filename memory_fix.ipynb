{
 "cells": [
  {
   "cell_type": "code",
   "execution_count": 39,
   "metadata": {
    "collapsed": true
   },
   "outputs": [],
   "source": [
    "import tensorflow as tf\n",
    "import numpy as np\n",
    "from typing import List\n",
    "import numpy as np\n",
    "from ExperimentConfig import ExperimentConfig\n",
    "import tensorflow as tf\n",
    "\n",
    "\n",
    "class ResultMemory:\n",
    "    def __init__(self, max_size: int):\n",
    "        self.data = np.zeros(shape=(max_size, 5))\n",
    "        self.max_size = max_size\n",
    "        self.count = 0\n",
    "    def add_sample(self, sample: np.ndarray):\n",
    "        sr = self.count % self.max_size\n",
    "        self.count += sample.shape[0]\n",
    "\n",
    "        er = sr + sample.shape[0]\n",
    "        self.data[sr:er] = sample\n",
    "\n",
    "    def get_batch(self, batch_size) -> (np.ndarray, np.ndarray, np.ndarray):\n",
    "        indices = np.random.randint(0, min(self.max_size, self.count), batch_size)\n",
    "        return tf.gather(self.data, indices)\n",
    "\n",
    "\n",
    "def create_batch_from_results(config: ExperimentConfig, memory: ResultMemory) -> (np.ndarray, np.ndarray, np.ndarray):\n",
    "\n",
    "    batch_size = config.batch_size\n",
    "    results = memory.get_batch(batch_size)\n",
    "\n",
    "    if results.ndim == 1:\n",
    "        results = np.expand_dims(results, 0)\n",
    "\n",
    "    in_rows = results.shape[0]\n",
    "    cols = results.shape[1]\n",
    "    out_rows = in_rows * 2\n",
    "\n",
    "    bin_it = lambda x: config.convert_ideology_to_bin(x)\n",
    "    v_bin = np.vectorize(bin_it)\n",
    "    results = v_bin(results)\n",
    "\n",
    "    x = np.zeros(shape=(out_rows , config.n_bins), dtype=np.single)\n",
    "    y = np.zeros(shape=(out_rows , config.n_bins), dtype=np.single)\n",
    "    mask = np.zeros(shape=(out_rows , config.n_bins), dtype=np.single)\n",
    "\n",
    "\n",
    "    out_row = 0\n",
    "    for in_row in range(in_rows):\n",
    "        i = np.random.randint(0, cols)\n",
    "        for j in range(cols):\n",
    "            if i != j:\n",
    "                x[out_row, results[in_row, j]] = 1\n",
    "\n",
    "        if i == 0:\n",
    "            y[out_row, results[in_row, i]] = 1\n",
    "        mask[out_row, results[in_row, i]] = 1\n",
    "        out_row += 1\n",
    "\n",
    "    x[out_row: out_rows] = np.flip(x[0: out_row], axis = 1)\n",
    "    y[out_row: out_rows] = np.flip(y[0: out_row], axis = 1)\n",
    "    mask[out_row: out_rows] = np.flip(mask[0: out_row], axis = 1)\n",
    "    return x, y, mask"
   ]
  },
  {
   "cell_type": "code",
   "execution_count": 40,
   "outputs": [
    {
     "name": "stdout",
     "output_type": "stream",
     "text": [
      "[[0. 1. 0. ... 0. 0. 0.]\n",
      " [0. 0. 1. ... 0. 0. 0.]\n",
      " [0. 1. 0. ... 0. 0. 1.]\n",
      " ...\n",
      " [0. 0. 0. ... 0. 0. 0.]\n",
      " [0. 0. 0. ... 0. 0. 0.]\n",
      " [1. 0. 0. ... 0. 0. 0.]]\n",
      "[[0. 0. 0. ... 0. 0. 0.]\n",
      " [0. 0. 0. ... 0. 0. 0.]\n",
      " [0. 0. 0. ... 0. 0. 1.]\n",
      " ...\n",
      " [0. 0. 0. ... 0. 0. 0.]\n",
      " [1. 0. 0. ... 0. 0. 0.]\n",
      " [0. 0. 0. ... 0. 0. 0.]]\n",
      "[[0. 0. 0. ... 0. 0. 0.]\n",
      " [0. 0. 0. ... 0. 0. 0.]\n",
      " [0. 0. 0. ... 0. 0. 1.]\n",
      " ...\n",
      " [0. 0. 0. ... 0. 0. 0.]\n",
      " [1. 0. 0. ... 0. 0. 0.]\n",
      " [0. 0. 0. ... 0. 0. 0.]]\n"
     ]
    }
   ],
   "source": [
    "t_config = ExperimentConfig(\"test\", \"IRV\")\n",
    "result_memory = ResultMemory(100000)\n",
    "for i in range(10000):\n",
    "    cc = t_config.gen_candidates(5)\n",
    "    t = t_config.create_training_sample(cc, cc[2])\n",
    "    result_memory.add_sample(t)\n",
    "\n",
    "x, y, mask = create_batch_from_results(t_config, result_memory)\n",
    "\n",
    "print(x)\n",
    "print(y)\n",
    "print(mask)"
   ],
   "metadata": {
    "collapsed": false,
    "pycharm": {
     "name": "#%%\n"
    }
   }
  },
  {
   "cell_type": "code",
   "execution_count": 41,
   "outputs": [
    {
     "data": {
      "text/plain": "(4096, 21)"
     },
     "execution_count": 41,
     "metadata": {},
     "output_type": "execute_result"
    }
   ],
   "source": [
    "x.shape\n"
   ],
   "metadata": {
    "collapsed": false,
    "pycharm": {
     "name": "#%%\n"
    }
   }
  },
  {
   "cell_type": "code",
   "execution_count": null,
   "outputs": [],
   "source": [],
   "metadata": {
    "collapsed": false,
    "pycharm": {
     "name": "#%%\n"
    }
   }
  }
 ],
 "metadata": {
  "kernelspec": {
   "display_name": "Python 3",
   "language": "python",
   "name": "python3"
  },
  "language_info": {
   "codemirror_mode": {
    "name": "ipython",
    "version": 2
   },
   "file_extension": ".py",
   "mimetype": "text/x-python",
   "name": "python",
   "nbconvert_exporter": "python",
   "pygments_lexer": "ipython2",
   "version": "2.7.6"
  }
 },
 "nbformat": 4,
 "nbformat_minor": 0
}