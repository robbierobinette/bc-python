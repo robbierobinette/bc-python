{
 "cells": [
  {
   "cell_type": "code",
   "execution_count": 9,
   "metadata": {
    "collapsed": true
   },
   "outputs": [
    {
     "name": "stdout",
     "output_type": "stream",
     "text": [
      "snapdir is snapshots/v14\n"
     ]
    }
   ],
   "source": [
    "from ExperimentConfig import ExperimentConfig\n",
    "from Experiment import Experiment\n",
    "from util.snap import snap\n",
    "from copy import copy\n",
    "from typing import List\n",
    "from joblib import Parallel, delayed\n",
    "from CombinedExperiment import ExperimentResult\n",
    "import os\n",
    "os.environ['TF_CPP_MIN_LOG_LEVEL'] = \"5\"\n",
    "\n",
    "version = \"v14\"\n",
    "snap(version)\n",
    "n_races = 1000\n",
    "base_config = ExperimentConfig(name=\"none\",\n",
    "                               election_name=\"IRV\",\n",
    "                               training_cycles=100000,\n",
    "                               ideology_range=1.5,\n",
    "                               ideology_flexibility=.7,\n",
    "                               n_bins=21,\n",
    "                               model_width=768,\n",
    "                               model_layers=4,\n",
    "                               memory_size=10000,\n",
    "                               batch_size=2048,\n",
    "                               training_voters=1000,\n",
    "                               sampling_voters=1000,\n",
    "                               quality_variance=0,\n",
    "                               candidate_variance=0.5,\n",
    "                               equal_pct_bins=True,\n",
    "                               model_path=\"none\")"
   ]
  },
  {
   "cell_type": "code",
   "execution_count": 10,
   "outputs": [],
   "source": [
    "exp = Experiment(base_config)\n",
    "exp.populate_memory_par(10000)"
   ],
   "metadata": {
    "collapsed": false,
    "pycharm": {
     "name": "#%%\n"
    }
   }
  },
  {
   "cell_type": "code",
   "execution_count": 14,
   "outputs": [
    {
     "name": "stdout",
     "output_type": "stream",
     "text": [
      "m2.count: 100000 \n"
     ]
    }
   ],
   "source": [
    "import pickle\n",
    "\n",
    "with open(\"%s.%s.memory.p\" % (exp.config.election_name, exp.config.equal_pct_bins), \"wb\") as f:\n",
    "    pickle.dump(exp.memory, f)\n",
    "\n",
    "\n",
    "with open(\"IRV.True.memory.p\", \"rb\") as f:\n",
    "    m2 = pickle.load(f)\n",
    "\n",
    "print(\"m2.count: %d \" % m2.count)"
   ],
   "metadata": {
    "collapsed": false,
    "pycharm": {
     "name": "#%%\n"
    }
   }
  },
  {
   "cell_type": "code",
   "execution_count": 17,
   "outputs": [
    {
     "name": "stdout",
     "output_type": "stream",
     "text": [
      "True\n"
     ]
    }
   ],
   "source": [
    "x=True\n",
    "print(\"%s\" % x)"
   ],
   "metadata": {
    "collapsed": false,
    "pycharm": {
     "name": "#%%\n"
    }
   }
  },
  {
   "cell_type": "code",
   "execution_count": null,
   "outputs": [],
   "source": [],
   "metadata": {
    "collapsed": false,
    "pycharm": {
     "name": "#%%\n"
    }
   }
  }
 ],
 "metadata": {
  "kernelspec": {
   "display_name": "Python 3",
   "language": "python",
   "name": "python3"
  },
  "language_info": {
   "codemirror_mode": {
    "name": "ipython",
    "version": 2
   },
   "file_extension": ".py",
   "mimetype": "text/x-python",
   "name": "python",
   "nbconvert_exporter": "python",
   "pygments_lexer": "ipython2",
   "version": "2.7.6"
  }
 },
 "nbformat": 4,
 "nbformat_minor": 0
}