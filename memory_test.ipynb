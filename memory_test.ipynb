{
 "cells": [
  {
   "cell_type": "code",
   "execution_count": 2,
   "metadata": {
    "collapsed": true,
    "pycharm": {
     "name": "#%%\n"
    }
   },
   "outputs": [],
   "source": [
    "import numpy as np\n",
    "\n",
    "from network.ElectionMemory import ElectionMemory\n",
    "from network.ResultMemory import ResultMemory\n",
    "from ExperimentConfig import ExperimentConfig\n",
    "\n",
    "\n",
    "def sort_nparray(a: np.ndarray) -> np.ndarray:\n",
    "    for c in reversed(range(a.shape[1])):\n",
    "        a = a[a[:,c].argsort(kind='stable')]\n",
    "\n",
    "    return a\n",
    "\n",
    "\n",
    "def diff_array(a: np.ndarray, b: np.ndarray):\n",
    "    if a.shape != b.shape:\n",
    "        print(\"shapes differ\")\n",
    "        print(a.shape)\n",
    "        print(b.shape)\n",
    "\n",
    "    a = sort_nparray(a)\n",
    "    b = sort_nparray(b)\n",
    "\n",
    "\n",
    "    if not np.array_equal(a, b):\n",
    "\n",
    "        print(\"arrays not equal\")\n",
    "        print(\"a:\")\n",
    "        print(a)\n",
    "        print(\"b:\")\n",
    "        print(b)\n",
    "    else:\n",
    "        print(\"arrays are same\")"
   ]
  },
  {
   "cell_type": "code",
   "execution_count": 2,
   "outputs": [],
   "source": [
    "# a = np.random.randint(0, 2, size=(20, 21))\n",
    "# print(a)\n",
    "# a = sort_nparray(a)\n",
    "# print(a)"
   ],
   "metadata": {
    "collapsed": false,
    "pycharm": {
     "name": "#%%\n"
    }
   }
  },
  {
   "cell_type": "code",
   "execution_count": 3,
   "outputs": [
    {
     "name": "stdout",
     "output_type": "stream",
     "text": [
      "rm.data:\n",
      "arrays are same\n",
      "arrays are same\n",
      "arrays are same\n",
      "rm_x \n"
     ]
    }
   ],
   "source": [
    "np.random.seed(0)\n",
    "samples = 1024\n",
    "em = ElectionMemory(samples * 10, 21)\n",
    "rm = ResultMemory(samples)\n",
    "\n",
    "config = ExperimentConfig(\"test\", \"IRV\")\n",
    "\n",
    "for i in range(samples):\n",
    "    cc = config.gen_candidates(5)\n",
    "    # [print(\"c.ideology % 6.2f\" % c.ideology.vec[0]) for c in cc]\n",
    "    winner = np.random.randint(0, 5)\n",
    "\n",
    "    c_bins = [config.convert_ideology_to_bin(c.ideology.vec[0]) for c in cc]\n",
    "    em.add_sample(c_bins, winner)\n",
    "    rmvec = []\n",
    "    rmvec.append(cc[winner].ideology.vec[0])\n",
    "    for i in range(5):\n",
    "        if i != winner:\n",
    "            rmvec.append(cc[i].ideology.vec[0])\n",
    "    rm.add_sample(np.array(rmvec))\n",
    "\n",
    "em_x, em_y, em_m = em.x[0:samples * 10], em.y[0:samples * 10], em.mask[0:samples * 10]\n",
    "# converting batch\n",
    "print(\"rm.data:\")\n",
    "# print(rm.data)\n",
    "# print(\"converting results to batch\")\n",
    "rm_x, rm_y, rm_m = config.convert_results_to_batch(rm.data)\n",
    "# print(\"done converting results to batch\")\n",
    "\n",
    "rm_x = sort_nparray(rm_x)\n",
    "rm_y = sort_nparray(rm_y)\n",
    "rm_m = sort_nparray(rm_m)\n",
    "\n",
    "em_x = sort_nparray(em_x)\n",
    "em_y = sort_nparray(em_y)\n",
    "em_m = sort_nparray(em_m)\n",
    "\n",
    "diff_array(rm_x, em_x)\n",
    "diff_array(rm_y, em_y)\n",
    "diff_array(rm_m, em_m)\n",
    "\n",
    "\n",
    "print(\"rm_x \")"
   ],
   "metadata": {
    "collapsed": false,
    "pycharm": {
     "name": "#%%\n"
    }
   }
  },
  {
   "cell_type": "code",
   "execution_count": 4,
   "outputs": [
    {
     "data": {
      "text/plain": "(1, 5)"
     },
     "execution_count": 4,
     "metadata": {},
     "output_type": "execute_result"
    }
   ],
   "source": [
    "cc = config.gen_candidates(5)\n",
    "i = [c.ideology.vec for c in cc]\n",
    "ii = np.hstack(i)\n",
    "ii.ndim\n",
    "z = ii.reshape((1, ii.shape[0]))\n",
    "z.shape"
   ],
   "metadata": {
    "collapsed": false,
    "pycharm": {
     "name": "#%%\n"
    }
   }
  },
  {
   "cell_type": "code",
   "execution_count": 6,
   "outputs": [
    {
     "name": "stdout",
     "output_type": "stream",
     "text": [
      "done\n"
     ]
    }
   ],
   "source": [
    "for i in np.arange(-1.5, 1.5, .01):\n",
    "    b1 = config.convert_ideology_to_bin_sigma(i)\n",
    "    b2 = config.convert_ideology_to_bin_sigma2(i)\n",
    "    if b1 != b2:\n",
    "        print(\"bin mismatch at ideology %.2f %d %d\" % (i, b1, b2))\n",
    "print(\"done\")"
   ],
   "metadata": {
    "collapsed": false,
    "pycharm": {
     "name": "#%%\n"
    }
   }
  }
 ],
 "metadata": {
  "kernelspec": {
   "display_name": "Python 3",
   "language": "python",
   "name": "python3"
  },
  "language_info": {
   "codemirror_mode": {
    "name": "ipython",
    "version": 2
   },
   "file_extension": ".py",
   "mimetype": "text/x-python",
   "name": "python",
   "nbconvert_exporter": "python",
   "pygments_lexer": "ipython2",
   "version": "2.7.6"
  }
 },
 "nbformat": 4,
 "nbformat_minor": 0
}