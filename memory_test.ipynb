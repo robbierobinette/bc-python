{
 "cells": [
  {
   "cell_type": "code",
   "execution_count": 1,
   "metadata": {
    "collapsed": true,
    "pycharm": {
     "name": "#%%\n"
    }
   },
   "outputs": [],
   "source": [
    "import numpy as np\n",
    "\n",
    "from network.ElectionMemory import ElectionMemory\n",
    "from network.ResultMemory import ResultMemory\n",
    "from ExperimentConfig import ExperimentConfig\n",
    "from Experiment import MemoryWrapper\n",
    "\n",
    "\n",
    "def sort_nparray(a: np.ndarray) -> np.ndarray:\n",
    "    for c in reversed(range(a.shape[1])):\n",
    "        a = a[a[:,c].argsort(kind='stable')]\n",
    "\n",
    "    return a\n",
    "\n",
    "\n",
    "def diff_array(a: np.ndarray, b: np.ndarray):\n",
    "    if a.shape != b.shape:\n",
    "        print(\"shapes differ\")\n",
    "        print(a.shape)\n",
    "        print(b.shape)\n",
    "        return\n",
    "\n",
    "    a = sort_nparray(a)\n",
    "    b = sort_nparray(b)\n",
    "\n",
    "\n",
    "    if not np.array_equal(a, b):\n",
    "\n",
    "        print(\"arrays not equal\")\n",
    "        print(\"a:\")\n",
    "        print(a)\n",
    "        print(\"b:\")\n",
    "        print(b)\n",
    "    else:\n",
    "        print(\"arrays are same\")"
   ]
  },
  {
   "cell_type": "code",
   "execution_count": 2,
   "outputs": [],
   "source": [
    "# a = np.random.randint(0, 2, size=(20, 21))\n",
    "# print(a)\n",
    "# a = sort_nparray(a)\n",
    "# print(a)"
   ],
   "metadata": {
    "collapsed": false,
    "pycharm": {
     "name": "#%%\n"
    }
   }
  },
  {
   "cell_type": "code",
   "execution_count": 6,
   "outputs": [
    {
     "name": "stdout",
     "output_type": "stream",
     "text": [
      "arrays are same\n",
      "arrays are same\n",
      "arrays are same\n",
      "rm_x \n"
     ]
    }
   ],
   "source": [
    "np.random.seed(0)\n",
    "samples=100\n",
    "em = ElectionMemory(samples * 10, 21)\n",
    "rm = ResultMemory(samples)\n",
    "\n",
    "config_r = ExperimentConfig(\"test\", \"IRV\")\n",
    "config_e = ExperimentConfig(\"test\", \"IRV\")\n",
    "config_r.result_memory = True\n",
    "config_e.result_memory = False\n",
    "\n",
    "mw_r = MemoryWrapper(config_r)\n",
    "mw_e = MemoryWrapper(config_e)\n",
    "\n",
    "for i in range(samples):\n",
    "    cc = config_r.gen_candidates(5)\n",
    "    ii = np.array([c.ideology.vec[0] for c in cc])\n",
    "    mw_r.add_sample(ii)\n",
    "    mw_e.add_sample(ii)\n",
    "\n",
    "\n",
    "for i in range(1):\n",
    "    np.random.seed(i)\n",
    "    rm_x, rm_y, rm_m = mw_r.get_batch()\n",
    "    np.random.seed(i)\n",
    "    em_x, em_y, em_m = mw_e.get_batch()\n",
    "\n",
    "    rm_x = sort_nparray(rm_x)\n",
    "    rm_y = sort_nparray(rm_y)\n",
    "    rm_m = sort_nparray(rm_m)\n",
    "\n",
    "    em_x = sort_nparray(em_x.numpy())\n",
    "    em_y = sort_nparray(em_y.numpy())\n",
    "    em_m = sort_nparray(em_m.numpy())\n",
    "\n",
    "    diff_array(rm_x, em_x)\n",
    "    diff_array(rm_y, em_y)\n",
    "    diff_array(rm_m, em_m)\n",
    "\n",
    "\n",
    "print(\"rm_x \")"
   ],
   "metadata": {
    "collapsed": false,
    "pycharm": {
     "name": "#%%\n"
    }
   }
  }
 ],
 "metadata": {
  "kernelspec": {
   "display_name": "Python 3",
   "language": "python",
   "name": "python3"
  },
  "language_info": {
   "codemirror_mode": {
    "name": "ipython",
    "version": 2
   },
   "file_extension": ".py",
   "mimetype": "text/x-python",
   "name": "python",
   "nbconvert_exporter": "python",
   "pygments_lexer": "ipython2",
   "version": "2.7.6"
  }
 },
 "nbformat": 4,
 "nbformat_minor": 0
}