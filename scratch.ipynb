{
 "cells": [
  {
   "cell_type": "code",
   "execution_count": 20,
   "metadata": {
    "collapsed": true,
    "pycharm": {
     "name": "#%%\n"
    }
   },
   "outputs": [],
   "source": [
    "import os\n",
    "os.environ['TF_CPP_MIN_LOG_LEVEL'] = \"5\"\n",
    "import random\n",
    "\n",
    "import numpy as np\n",
    "from elections.GaussianHelpers import cumulative_normal_dist\n",
    "\n",
    "from elections.Candidate import Candidate\n",
    "from ExperimentConfig import ExperimentConfig\n",
    "from Experiment import Experiment\n",
    "from CombinedExperiment import CombinedExperiment\n",
    "from typing import List\n",
    "from elections.PopulationGroup import Independents\n",
    "from elections.Ideology import Ideology\n",
    "from elections.HeadToHeadElection import HeadToHeadElection\n",
    "from Experiment import RaceResult\n",
    "from joblib import Parallel, delayed\n",
    "from elections.GaussianHelpers import cumulative_normal_dist\n",
    "\n",
    "\n",
    "\n",
    "x = ExperimentConfig(\"foo\", \"H2H\",\n",
    "    equal_pct_bins=True\n",
    ")\n",
    "\n",
    "def foo():\n",
    "    for i in range(x.n_bins):\n",
    "        p = x.convert_bin_to_ideology(i)\n",
    "        print(\"%2d: p = % 7.3f  p_base = % 7.3f\" % (i, p, x.pct_min + x.pct_step * i))\n",
    "\n",
    "    for i in range(x.n_bins):\n",
    "        ib_start = x.min_ideology + x.sigma_step * i\n",
    "        ib_end = ib_start + x.sigma_step\n",
    "        pct_start = cumulative_normal_dist(ib_start)\n",
    "        pct_end = cumulative_normal_dist(ib_end)\n",
    "        delta = pct_end - pct_start\n",
    "\n",
    "        print(\"%2d ib_start % 6.3f pct_size %5.2f\" % (i, ib_start, delta))"
   ]
  },
  {
   "cell_type": "code",
   "execution_count": 21,
   "outputs": [],
   "source": [
    "\n",
    "def compute_SUE(election_process: str, cv: float, flexibility: float):\n",
    "    c = ExperimentConfig(\"v5\",\n",
    "                         election_process,\n",
    "                         equal_pct_bins=False,\n",
    "                         candidate_variance=cv,\n",
    "                         ideology_flexibility = flexibility,\n",
    "                         sampling_voters=1000,\n",
    "                         model_path=f\"exp/v5/{election_process}\")\n",
    "\n",
    "\n",
    "    x = Experiment(c)\n",
    "    rr = x.run_strategic_races_par(1000)\n",
    "    sue = CombinedExperiment.compute_SUE(rr)\n",
    "    count_of_ties = 0\n",
    "    for r in rr:\n",
    "        if r.condorcet_tie:\n",
    "            count_of_ties += 1\n",
    "    ties = \"\"\n",
    "    if election_process == \"H2H\":\n",
    "        ties = \"%6.2f\" % (100 * count_of_ties / len(rr))\n",
    "\n",
    "\n",
    "    print(\"%-10s flex %.2f cv %.2f SUE % 6.3f %s\" % (election_process, flexibility, cv, sue, ties))\n",
    "\n",
    "    return sue\n",
    "\n",
    "\n",
    "# x = [1,2,3]\n",
    "# y = [1,2,3]\n",
    "#\n",
    "# z = list(zip(x,y))\n",
    "# print(z)\n",
    "#\n",
    "def make_plot_data(candidate_variance: float):\n",
    "    flexibility = np.arange(0, 1.01, .1)\n",
    "    plot_data = []\n",
    "    processes  = [\"IRV\", \"H2H\"]\n",
    "    print(\"computing processes\")\n",
    "    for process in processes:\n",
    "           sue = [compute_SUE(process, .5, f) for f in flexibility]\n",
    "           plot_data.append((flexibility, sue))\n",
    "\n",
    "    return plot_data"
   ],
   "metadata": {
    "collapsed": false,
    "pycharm": {
     "name": "#%%\n"
    }
   }
  },
  {
   "cell_type": "code",
   "execution_count": 33,
   "outputs": [
    {
     "name": "stdout",
     "output_type": "stream",
     "text": [
      "SUE for reference data is cv: 0.50 cap 1.50 span   True   0.46\n",
      "SUE for reference data is cv: 0.50 cap 2.00 span   True   0.42\n",
      "SUE for reference data is cv: 0.50 cap 2.50 span   True   0.45\n",
      "SUE for reference data is cv: 0.50 cap 20.00 span   True   0.44\n",
      "SUE for reference data is cv: 1.00 cap 1.50 span   True   0.84\n",
      "SUE for reference data is cv: 1.00 cap 2.00 span   True   0.86\n",
      "SUE for reference data is cv: 1.00 cap 2.50 span   True   0.88\n",
      "SUE for reference data is cv: 1.00 cap 20.00 span   True   0.91\n",
      "SUE for reference data is cv: 0.50 cap 1.50 span  False   0.56\n",
      "SUE for reference data is cv: 0.50 cap 2.00 span  False   0.63\n",
      "SUE for reference data is cv: 0.50 cap 2.50 span  False   0.56\n",
      "SUE for reference data is cv: 0.50 cap 20.00 span  False   0.54\n",
      "SUE for reference data is cv: 1.00 cap 1.50 span  False   0.80\n",
      "SUE for reference data is cv: 1.00 cap 2.00 span  False   0.90\n",
      "SUE for reference data is cv: 1.00 cap 2.50 span  False   0.90\n",
      "SUE for reference data is cv: 1.00 cap 20.00 span  False   0.90\n"
     ]
    }
   ],
   "source": [
    "class SUEComparison:\n",
    "    def __init__(self, exp: Experiment, candidate_stddev: float, stddev_cap: float, span: bool):\n",
    "        self.exp = exp\n",
    "        self.stddev_cap = stddev_cap\n",
    "        self.candidate_stddev = candidate_stddev\n",
    "        self.span = span\n",
    "\n",
    "    def gen_reference_candidates(self, n: int) -> List[Candidate]:\n",
    "        candidates = []\n",
    "        while len(candidates) < n:\n",
    "            ivec = self.exp.config.population.unit_sample_voter().ideology.vec * self.exp.config.candidate_variance\n",
    "            if abs(ivec[0]) < self.stddev_cap:\n",
    "                quality = random.normalvariate(0, self.exp.config.quality_variance)\n",
    "                candidates.append(Candidate(f\"c-{len(candidates)}\", Independents, Ideology(ivec), quality))\n",
    "        ii = [c.ideology.vec[0] for c in candidates]\n",
    "        min_ideology = np.min(ii)\n",
    "        max_ideology = np.max(ii)\n",
    "        if self.span and (min_ideology >  -.25 or max_ideology < .25):\n",
    "            return self.gen_reference_candidates(n)\n",
    "        return candidates\n",
    "\n",
    "    def run_reference_election(self) -> RaceResult:\n",
    "        candidates = self.gen_reference_candidates(5)\n",
    "        voters = self.exp.config.population.generate_unit_voters(self.exp.config.sampling_voters)\n",
    "        winner = self.exp.run_election(candidates, voters)\n",
    "        utilities = self.exp.compute_utilities(winner, candidates, voters)\n",
    "        return RaceResult(winner, candidates, candidates, utilities, utilities, HeadToHeadElection.count_of_ties > 0)\n",
    "\n",
    "    def reference_results_par(self, n: int) -> List[RaceResult]:\n",
    "        winners: List[RaceResult] = Parallel(n_jobs=16)(delayed(self.run_reference_election)() for _ in range(n))\n",
    "        return winners\n",
    "\n",
    "    def reference_results(self, n: int) -> List[RaceResult]:\n",
    "        results = []\n",
    "        for i in range(n):\n",
    "            results.append(self.run_reference_election())\n",
    "\n",
    "        return results\n",
    "\n",
    "    def compute_reference_SUE(self) -> float:\n",
    "        results = self.reference_results(100)\n",
    "        sue = CombinedExperiment.compute_SUE(results)\n",
    "        print(\"SUE for reference data is cv: %.2f cap %.2f span %6s % 6.2f\" %\n",
    "              (self.candidate_stddev, self.stddev_cap, self.span, sue))\n",
    "        return sue\n",
    "\n",
    "\n",
    "def run_one(cv: float, cap: float, span: bool):\n",
    "    flexibility = 0\n",
    "    election_process = \"IRV\"\n",
    "    c = ExperimentConfig(\"v5\",\n",
    "                         election_process,\n",
    "                         equal_pct_bins=False,\n",
    "                         candidate_variance=cv,\n",
    "                         ideology_flexibility = flexibility,\n",
    "                         sampling_voters=200,\n",
    "                         model_path=f\"exp/v5/{election_process}\")\n",
    "\n",
    "    exp = Experiment(c)\n",
    "    sue = SUEComparison(exp, cv, cap, span)\n",
    "    sue.compute_reference_SUE()\n",
    "\n",
    "def run_scan():\n",
    "    for  span in [True, False]:\n",
    "        for cv in [.5, 1.0]:\n",
    "            for cap in [1.5, 2.0, 2.5, 20]:\n",
    "                run_one(cv, cap, span)\n",
    "\n",
    "\n",
    "run_scan()"
   ],
   "metadata": {
    "collapsed": false,
    "pycharm": {
     "name": "#%%\n"
    }
   }
  },
  {
   "cell_type": "code",
   "execution_count": 31,
   "outputs": [
    {
     "data": {
      "text/plain": "0.9331927712798016"
     },
     "execution_count": 31,
     "metadata": {},
     "output_type": "execute_result"
    }
   ],
   "source": [
    "cumulative_normal_dist(1.5)\n"
   ],
   "metadata": {
    "collapsed": false,
    "pycharm": {
     "name": "#%%\n"
    }
   }
  },
  {
   "cell_type": "code",
   "execution_count": null,
   "outputs": [
    {
     "name": "stdout",
     "output_type": "stream",
     "text": [
      "computing processes\n",
      "IRV        flex 0.00 cv 0.50 SUE  0.340 \n",
      "IRV        flex 0.10 cv 0.50 SUE  0.364 \n",
      "IRV        flex 0.20 cv 0.50 SUE  0.319 \n",
      "IRV        flex 0.30 cv 0.50 SUE  0.309 \n",
      "IRV        flex 0.40 cv 0.50 SUE  0.254 \n",
      "IRV        flex 0.50 cv 0.50 SUE  0.305 \n",
      "IRV        flex 0.60 cv 0.50 SUE  0.354 \n",
      "IRV        flex 0.70 cv 0.50 SUE  0.379 \n",
      "IRV        flex 0.80 cv 0.50 SUE  0.419 \n",
      "IRV        flex 0.90 cv 0.50 SUE  0.442 \n",
      "IRV        flex 1.00 cv 0.50 SUE  0.491 \n",
      "H2H        flex 0.00 cv 0.50 SUE  0.991   1.00\n",
      "H2H        flex 0.10 cv 0.50 SUE  1.000   1.00\n",
      "H2H        flex 0.20 cv 0.50 SUE  1.023   2.40\n",
      "H2H        flex 0.30 cv 0.50 SUE  1.049   5.40\n",
      "H2H        flex 0.40 cv 0.50 SUE  1.067   7.20\n",
      "H2H        flex 0.50 cv 0.50 SUE  1.084   7.30\n",
      "H2H        flex 0.60 cv 0.50 SUE  1.081  11.90\n",
      "H2H        flex 0.70 cv 0.50 SUE  1.096  12.90\n",
      "H2H        flex 0.80 cv 0.50 SUE  1.094  17.00\n",
      "H2H        flex 0.90 cv 0.50 SUE  1.103  17.80\n",
      "H2H        flex 1.00 cv 0.50 SUE  1.101  18.20\n",
      "computing processes\n",
      "IRV        flex 0.00 cv 0.50 SUE  0.324 \n",
      "IRV        flex 0.10 cv 0.50 SUE  0.336 \n",
      "IRV        flex 0.20 cv 0.50 SUE  0.313 \n",
      "IRV        flex 0.30 cv 0.50 SUE  0.303 \n",
      "IRV        flex 0.40 cv 0.50 SUE  0.289 \n",
      "IRV        flex 0.50 cv 0.50 SUE  0.332 \n",
      "IRV        flex 0.60 cv 0.50 SUE  0.331 \n",
      "IRV        flex 0.70 cv 0.50 SUE  0.403 \n",
      "IRV        flex 0.80 cv 0.50 SUE  0.401 \n"
     ]
    }
   ],
   "source": [
    "import matplotlib.pyplot as plt\n",
    "def make_line_plot(data, title, labels):\n",
    "    n_rows = 1\n",
    "    n_cols = 1\n",
    "    fig, axis = plt.subplots(nrows=n_rows, ncols=n_cols, figsize=(20, 10))\n",
    "    fig.suptitle(title, color=\"black\", fontsize=22)\n",
    "    fig.set_facecolor(\"white\")\n",
    "\n",
    "    count = 0\n",
    "    plt.xticks(fontsize=16)\n",
    "    plt.yticks(fontsize=16)\n",
    "\n",
    "    axis.tick_params(axis='x', colors=\"black\")\n",
    "\n",
    "    for i in range(len(data)):\n",
    "        d = data[i]\n",
    "        plt.plot(d[0], d[1], label =labels[i])\n",
    "    plt.legend()\n",
    "\n",
    "    axis.set_xlabel(\"Candidate Ideological Flexibility (stddev)\", fontsize=20)\n",
    "    axis.set_ylabel(\"Social Utility Efficiency\", fontsize=20)\n",
    "\n",
    "    plt.savefig(\"foo.png\")\n",
    "\n",
    "\n",
    "plot_data_05 = make_plot_data(0.5)\n",
    "plot_data_10 = make_plot_data(1.0)\n",
    "make_line_plot(plot_data_05, \"Social Utility Efficiency vs. Flexibility for Candidate Variance 0.5\", [\"Instant Runoff\", \"Condorcet-Minimax\"])\n",
    "make_line_plot(plot_data_10, \"Social Utility Efficiency vs. Flexibility for Candidate Variance 1.0\", [\"Instant Runoff\", \"Condorcet-Minimax\"])"
   ],
   "metadata": {
    "collapsed": false,
    "pycharm": {
     "name": "#%%\n",
     "is_executing": true
    }
   }
  },
  {
   "cell_type": "code",
   "execution_count": null,
   "outputs": [],
   "source": [],
   "metadata": {
    "collapsed": false,
    "pycharm": {
     "name": "#%%\n"
    }
   }
  }
 ],
 "metadata": {
  "kernelspec": {
   "display_name": "Python 3",
   "language": "python",
   "name": "python3"
  },
  "language_info": {
   "codemirror_mode": {
    "name": "ipython",
    "version": 2
   },
   "file_extension": ".py",
   "mimetype": "text/x-python",
   "name": "python",
   "nbconvert_exporter": "python",
   "pygments_lexer": "ipython2",
   "version": "2.7.6"
  }
 },
 "nbformat": 4,
 "nbformat_minor": 0
}