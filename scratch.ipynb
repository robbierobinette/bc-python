{
 "cells": [
  {
   "cell_type": "code",
   "execution_count": 2,
   "metadata": {
    "collapsed": true
   },
   "outputs": [
    {
     "name": "stdout",
     "output_type": "stream",
     "text": [
      "['none-0.0', 'none-0.01', 'none-0.02', 'none-0.03', 'none-0.04', 'none-0.05', 'none-0.06', 'none-0.07', 'none-0.08', 'none-0.09', 'none-0.1', 'none-0.11', 'none-0.12', 'none-0.13', 'none-0.14', 'none-0.15', 'none-0.16', 'none-0.17', 'none-0.18', 'none-0.19']\n"
     ]
    }
   ],
   "source": [
    "\n",
    "import time\n",
    "from joblib import Parallel, delayed\n",
    "from ExperimentConfig import ExperimentConfig\n",
    "\n",
    "def countdown(n):\n",
    "    while n>0:\n",
    "        n -= 1\n",
    "    print(\"done\")\n",
    "    return n\n",
    "\n",
    "\n",
    "def v1():\n",
    "    t = time.time()\n",
    "    for _ in range(20):\n",
    "        print(countdown(10**7), end=\" \")\n",
    "    print(time.time() - t)\n",
    "    # takes ~10.5 seconds on medium sized Macbook Pro\n",
    "\n",
    "\n",
    "    t = time.time()\n",
    "    results = Parallel(n_jobs=2)(delayed(countdown)(10**7) for _ in range(20))\n",
    "    print(results)\n",
    "    print(time.time() - t)\n",
    "    # takes ~6.3 seconds on medium sized Macbook Pro\n",
    "\n",
    "\n",
    "import numpy as np\n",
    "class ExperimentResults:\n",
    "    def __init__(self,\n",
    "                 label: str,\n",
    "                 s_winners: np.ndarray, s_candidates: np.ndarray,\n",
    "                 r_winners: np.ndarray, r_candidates: np.ndarray):\n",
    "\n",
    "        self.s_winners = s_winners\n",
    "        self.s_candidates = s_candidates\n",
    "\n",
    "        self.r_winners = r_winners\n",
    "        self.r_candidates = r_candidates\n",
    "\n",
    "    def print(self):\n",
    "\n",
    "def run_experie\n",
    "\n",
    "\n",
    "def par_test():\n",
    "\n",
    "    configs = [ExperimentConfig(\"H2H\", quality_variance=i/100) for i in range(20)]\n",
    "    results = Parallel(n_jobs=16)(delayed(c.par_test)() for c in configs)\n",
    "    print(results)\n",
    "\n",
    "par_test()"
   ]
  }
 ],
 "metadata": {
  "kernelspec": {
   "display_name": "Python 3",
   "language": "python",
   "name": "python3"
  },
  "language_info": {
   "codemirror_mode": {
    "name": "ipython",
    "version": 2
   },
   "file_extension": ".py",
   "mimetype": "text/x-python",
   "name": "python",
   "nbconvert_exporter": "python",
   "pygments_lexer": "ipython2",
   "version": "2.7.6"
  }
 },
 "nbformat": 4,
 "nbformat_minor": 0
}